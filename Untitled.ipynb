{
 "cells": [
  {
   "cell_type": "code",
   "execution_count": 1,
   "id": "0d9c4e59",
   "metadata": {},
   "outputs": [],
   "source": [
    "import pandas as pd\n",
    "combinations_df = pd.read_csv(\"combinations_result.csv\")"
   ]
  },
  {
   "cell_type": "code",
   "execution_count": 3,
   "id": "96b10653",
   "metadata": {},
   "outputs": [],
   "source": [
    "df = combinations_df\n",
    "\n",
    "non_null_counts = df.count(axis=1)\n",
    "\n",
    "# Adding the non-null count as a new column to the DataFrame\n",
    "df['non_null_count'] = non_null_counts"
   ]
  },
  {
   "cell_type": "code",
   "execution_count": 21,
   "id": "d4288870",
   "metadata": {},
   "outputs": [],
   "source": [
    "import random\n",
    "l6 = list(df[df['non_null_count'] == 12].index)  #.value_counts() \n",
    "random_items = random.sample(l6, 1)"
   ]
  },
  {
   "cell_type": "code",
   "execution_count": 22,
   "id": "254f086b",
   "metadata": {},
   "outputs": [
    {
     "data": {
      "text/plain": [
       "[4094]"
      ]
     },
     "execution_count": 22,
     "metadata": {},
     "output_type": "execute_result"
    }
   ],
   "source": [
    "random_items"
   ]
  },
  {
   "cell_type": "code",
   "execution_count": null,
   "id": "687b4131",
   "metadata": {},
   "outputs": [],
   "source": [
    "[4046, 4048, 4053, 4058, 4066, 4027, 4057, 4087, 4093, 4090, 4085, 4094]"
   ]
  }
 ],
 "metadata": {
  "kernelspec": {
   "display_name": "Python 3",
   "language": "python",
   "name": "python3"
  },
  "language_info": {
   "codemirror_mode": {
    "name": "ipython",
    "version": 3
   },
   "file_extension": ".py",
   "mimetype": "text/x-python",
   "name": "python",
   "nbconvert_exporter": "python",
   "pygments_lexer": "ipython3",
   "version": "3.10.9"
  }
 },
 "nbformat": 4,
 "nbformat_minor": 5
}
